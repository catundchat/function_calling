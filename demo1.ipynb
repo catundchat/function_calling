{
 "cells": [
  {
   "attachments": {},
   "cell_type": "markdown",
   "metadata": {},
   "source": [
    "Demo1: 创建三个函数分别是：get_apple_yield, get_current_data, get_history_date.\n",
    "\n",
    "输入message为：历史上的今天发生过什么？"
   ]
  },
  {
   "cell_type": "code",
   "execution_count": 3,
   "metadata": {},
   "outputs": [
    {
     "name": "stdout",
     "output_type": "stream",
     "text": [
      "{\n",
      "  \"choices\": [\n",
      "    {\n",
      "      \"finish_reason\": \"function_call\",\n",
      "      \"index\": 0,\n",
      "      \"message\": {\n",
      "        \"content\": null,\n",
      "        \"function_call\": {\n",
      "          \"arguments\": \"{\\n\\\"time\\\": \\\"now\\\"\\n}\",\n",
      "          \"name\": \"get_current_time\"\n",
      "        },\n",
      "        \"role\": \"assistant\"\n",
      "      }\n",
      "    }\n",
      "  ],\n",
      "  \"created\": 1686730946,\n",
      "  \"id\": \"chatcmpl-7RG3mz0L7Rh9x7IoJ0WboDOJLIGXr\",\n",
      "  \"model\": \"gpt-3.5-turbo-16k-0613\",\n",
      "  \"object\": \"chat.completion\",\n",
      "  \"usage\": {\n",
      "    \"completion_tokens\": 14,\n",
      "    \"prompt_tokens\": 197,\n",
      "    \"total_tokens\": 211\n",
      "  }\n",
      "}\n"
     ]
    }
   ],
   "source": [
    "import openai\n",
    "\n",
    "openai.api_key = \"YOURAPIKEY\"\n",
    "\n",
    "def get_response():\n",
    "    response = openai.ChatCompletion.create(\n",
    "        model=\"gpt-3.5-turbo-16k-0613\",\n",
    "        messages=[{\"role\": \"user\", \"content\": \"历史上的今天发生过什么？\"}],\n",
    "        functions=[\n",
    "            {\n",
    "                \"name\": \"get_apple_yield\",\n",
    "                \"description\": \"Obtaining Apple Production in Chengdu City\",\n",
    "                \"parameters\": {\n",
    "                    \"type\": \"object\",\n",
    "                    \"properties\": {\n",
    "                        \"yield\": {\n",
    "                            \"type\": \"string\",\n",
    "                            \"description\": \"give me a brief introduction of apple production in chengdu city, e.g. 18000kg\",\n",
    "                        }\n",
    "                    },\n",
    "                    \"required\": [\"yield\"],\n",
    "                }\n",
    "            },\n",
    "            {\n",
    "                \"name\": \"get_current_time\",\n",
    "                \"description\": \"Get the current current East Eighth District Time\",\n",
    "                \"parameters\": {\n",
    "                    \"type\": \"object\",\n",
    "                    \"properties\": {\n",
    "                        \"time\": {\n",
    "                            \"type\": \"string\",\n",
    "                            \"description\": \"Current time, e.g. 2023/6/14 11:13\",\n",
    "                        }\n",
    "                    },\n",
    "                    \"required\": [\"time\"],\n",
    "                }\n",
    "            },\n",
    "            {\n",
    "                \"name\": \"get_history_date\",\n",
    "                \"description\": \"Search for information related to history\",\n",
    "                \"parameters\": {\n",
    "                    \"type\": \"object\",\n",
    "                    \"properties\": {\n",
    "                        \"information\": {\n",
    "                            \"type\": \"string\",\n",
    "                            \"description\": \"Text of historical date, e.g. 1842年8月29日，中国近代史上第一个不平等条约《南京条约》签订\",\n",
    "                        }\n",
    "                    },\n",
    "                    \"required\": [\"information\"],\n",
    "                }\n",
    "            }\n",
    "        ],\n",
    "        function_call=\"auto\"\n",
    "    )\n",
    "\n",
    "    message = response[\"choices\"][0][\"message\"]\n",
    "    print(response)\n",
    "\n",
    "get_response()"
   ]
  },
  {
   "attachments": {},
   "cell_type": "markdown",
   "metadata": {},
   "source": [
    "这是一个由GPT模型生成的函数调用。被调用的函数是 \"get_current_time\"，并且它的参数是 \"{\\n\"time\": \"today\"\\n}\".在这个函数调用中，\"get_current_data\" 是函数的名称，而 \"{\\n\"time\": \"today\"\\n}\" 是传递给该函数的参数，其中 \"time\" 是参数的键，\"today\" 是对应的值.\n",
    "这个函数调用的目的是获取 \"today\"（今天）的当前数据。具体这个函数会返回什么数据，取决于函数 \"get_current_time\" 的具体实现。例如他可能返回今天的具体时间。"
   ]
  }
 ],
 "metadata": {
  "kernelspec": {
   "display_name": "Python 3",
   "language": "python",
   "name": "python3"
  },
  "language_info": {
   "codemirror_mode": {
    "name": "ipython",
    "version": 3
   },
   "file_extension": ".py",
   "mimetype": "text/x-python",
   "name": "python",
   "nbconvert_exporter": "python",
   "pygments_lexer": "ipython3",
   "version": "3.10.11"
  },
  "orig_nbformat": 4
 },
 "nbformat": 4,
 "nbformat_minor": 2
}
